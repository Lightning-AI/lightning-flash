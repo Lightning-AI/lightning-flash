{
 "cells": [
  {
   "cell_type": "code",
   "execution_count": 2,
   "source": [
    "from importlib import reload\n",
    "import flash.text.classification.data as data\n",
    "from flash.text.classification import tokenizers as toks\n",
    "# reload(data)\n",
    "# reload(toks)"
   ],
   "outputs": [],
   "metadata": {}
  },
  {
   "cell_type": "code",
   "execution_count": 3,
   "source": [
    "tok, vocab_size = toks.TEXT_CLASSIFIER_TOKENIZERS.get(\"prajjwal1/bert-tiny\")(pretrained=True)"
   ],
   "outputs": [
    {
     "output_type": "stream",
     "name": "stderr",
     "text": [
      "Using 'prajjwal1/bert-tiny' provided by Hugging Face/tokenizers (https://github.com/huggingface/tokenizers).\n"
     ]
    }
   ],
   "metadata": {}
  },
  {
   "cell_type": "code",
   "execution_count": 4,
   "source": [
    "# from csv\n",
    "dm = data.TextClassificationData.from_csv(\n",
    "    train_file=\"data/imdb/train.csv\",\n",
    "    val_file=\"data/imdb/valid.csv\",\n",
    "    test_file=\"data/imdb/test.csv\",\n",
    "    input_fields=\"review\",\n",
    "    target_fields=\"sentiment\",\n",
    "    backbone=(tok, vocab_size),\n",
    "    backbone_kwargs={\"pretrained\": True},\n",
    ")\n",
    "\n",
    "dm.train_dataset[0], dm.val_dataset[0], dm.test_dataset[0]"
   ],
   "outputs": [
    {
     "output_type": "stream",
     "name": "stderr",
     "text": [
      "Using custom data configuration default-a4d22b10f26a6d19\n",
      "Reusing dataset csv (/Users/49796/.cache/huggingface/datasets/csv/default-a4d22b10f26a6d19/0.0.0/9144e0a4e8435090117cea53e6c7537173ef2304525df4a077c435d8ee7828ff)\n",
      "Loading cached processed dataset at /Users/49796/.cache/huggingface/datasets/csv/default-a4d22b10f26a6d19/0.0.0/9144e0a4e8435090117cea53e6c7537173ef2304525df4a077c435d8ee7828ff/cache-3603c3c1f2d11b36.arrow\n",
      "Using custom data configuration default-e799485285e8380f\n",
      "Reusing dataset csv (/Users/49796/.cache/huggingface/datasets/csv/default-e799485285e8380f/0.0.0/9144e0a4e8435090117cea53e6c7537173ef2304525df4a077c435d8ee7828ff)\n",
      "Loading cached processed dataset at /Users/49796/.cache/huggingface/datasets/csv/default-e799485285e8380f/0.0.0/9144e0a4e8435090117cea53e6c7537173ef2304525df4a077c435d8ee7828ff/cache-7350e04f1d315e84.arrow\n",
      "Using custom data configuration default-791e28d155719303\n",
      "Reusing dataset csv (/Users/49796/.cache/huggingface/datasets/csv/default-791e28d155719303/0.0.0/9144e0a4e8435090117cea53e6c7537173ef2304525df4a077c435d8ee7828ff)\n",
      "Loading cached processed dataset at /Users/49796/.cache/huggingface/datasets/csv/default-791e28d155719303/0.0.0/9144e0a4e8435090117cea53e6c7537173ef2304525df4a077c435d8ee7828ff/cache-7c46bf17307cdcd2.arrow\n"
     ]
    },
    {
     "output_type": "execute_result",
     "data": {
      "text/plain": [
       "({'input': \"Japanese indie film with humor and philosophy where the three main characters run literally almost through the entire film, chasing each other due to strange circumstances and comical coincidence. As they are running, we see what is going on in their minds and how they got where they are at the moment. The act of running is a metaphor for these down-on-their luck people's lives. In some way, what they're really chasing for is not what they were originally chasing, but for meaning in their lives and an escape from their personal problems and broken dreams. Running makes them all feel truly alive. The big life-altering running adventure comes to an end when they accidentally get in the middle of something big, violent, and so absurd that it's funny in a clever way. One of my favorite films of all time by genius director Sabu.\",\n",
       "  'target': 1},\n",
       " {'input': 'A surprisingly complex and well crafted study of \"The First\" serial killer in the USSR. Set in the days of perestroika this intense piece is brought to full life with the performances of Stephen Reah and Donald Sutherland.<br /><br />This examination of Cicatillo as a killer is well rounded and by hinting at some of his behaviors while out right showing others there is a subtlety that is compelling without being overtly graphic. Not for the weak of heart however as it\\'s subject matter is often disturbing but necessary to it\\'s full development of the main participants in this fact based story.<br /><br />HBO has furnished us with an excellent film in an unusual manner. Congrats to the director and editor of this great piece. It is in my Top 10 Must see list.',\n",
       "  'target': 1},\n",
       " {'input': 'Turgid dialogue, feeble characterization - Harvey Keitel a judge? He plays more like an off-duty hitman - and a tension-free plot conspire to make one of the unfunniest films of all time. You feel sorry for the cast as they try to extract comedy from a dire and lifeless script. Avoid!',\n",
       "  'target': 0})"
      ]
     },
     "metadata": {},
     "execution_count": 4
    }
   ],
   "metadata": {}
  },
  {
   "cell_type": "code",
   "execution_count": 5,
   "source": [
    "# from lists\n",
    "input_list = dm.train_dataset[\"input\"][:100]\n",
    "target_list = dm.train_dataset[\"target\"][:100]\n",
    "\n",
    "dm = data.TextClassificationData.from_lists(\n",
    "    train_data=input_list,\n",
    "    train_targets=target_list,\n",
    "    val_data=input_list,\n",
    "    val_targets=target_list,\n",
    "    test_data=input_list,\n",
    "    test_targets=target_list,\n",
    "    backbone=(tok, vocab_size),\n",
    "    backbone_kwargs={\"pretrained\": True},\n",
    ")\n",
    "\n",
    "dm.train_dataset[0], dm.val_dataset[0], dm.test_dataset[0]"
   ],
   "outputs": [
    {
     "output_type": "stream",
     "name": "stderr",
     "text": [
      "100%|██████████| 100/100 [00:00<00:00, 12584.93ex/s]\n",
      "100%|██████████| 100/100 [00:00<00:00, 13335.15ex/s]\n",
      "100%|██████████| 100/100 [00:00<00:00, 12701.54ex/s]\n"
     ]
    },
    {
     "output_type": "execute_result",
     "data": {
      "text/plain": [
       "({'input': \"Japanese indie film with humor and philosophy where the three main characters run literally almost through the entire film, chasing each other due to strange circumstances and comical coincidence. As they are running, we see what is going on in their minds and how they got where they are at the moment. The act of running is a metaphor for these down-on-their luck people's lives. In some way, what they're really chasing for is not what they were originally chasing, but for meaning in their lives and an escape from their personal problems and broken dreams. Running makes them all feel truly alive. The big life-altering running adventure comes to an end when they accidentally get in the middle of something big, violent, and so absurd that it's funny in a clever way. One of my favorite films of all time by genius director Sabu.\",\n",
       "  'target': 1},\n",
       " {'input': \"Japanese indie film with humor and philosophy where the three main characters run literally almost through the entire film, chasing each other due to strange circumstances and comical coincidence. As they are running, we see what is going on in their minds and how they got where they are at the moment. The act of running is a metaphor for these down-on-their luck people's lives. In some way, what they're really chasing for is not what they were originally chasing, but for meaning in their lives and an escape from their personal problems and broken dreams. Running makes them all feel truly alive. The big life-altering running adventure comes to an end when they accidentally get in the middle of something big, violent, and so absurd that it's funny in a clever way. One of my favorite films of all time by genius director Sabu.\",\n",
       "  'target': 1},\n",
       " {'input': \"Japanese indie film with humor and philosophy where the three main characters run literally almost through the entire film, chasing each other due to strange circumstances and comical coincidence. As they are running, we see what is going on in their minds and how they got where they are at the moment. The act of running is a metaphor for these down-on-their luck people's lives. In some way, what they're really chasing for is not what they were originally chasing, but for meaning in their lives and an escape from their personal problems and broken dreams. Running makes them all feel truly alive. The big life-altering running adventure comes to an end when they accidentally get in the middle of something big, violent, and so absurd that it's funny in a clever way. One of my favorite films of all time by genius director Sabu.\",\n",
       "  'target': 1})"
      ]
     },
     "metadata": {},
     "execution_count": 5
    }
   ],
   "metadata": {}
  },
  {
   "cell_type": "code",
   "execution_count": 6,
   "source": [
    "# from data_frame\n",
    "import pandas as pd\n",
    "df = pd.DataFrame({\"inputs\": input_list, \"labels\": target_list})\n",
    "\n",
    "dm = data.TextClassificationData.from_data_frame(\n",
    "    input_field=\"inputs\",\n",
    "    target_fields=\"labels\",\n",
    "    train_data_frame=df,\n",
    "    val_data_frame=df,\n",
    "    test_data_frame=df,\n",
    "    backbone=(tok, vocab_size),\n",
    "    backbone_kwargs={\"pretrained\": True},\n",
    ")\n",
    "\n",
    "dm.train_dataset[0], dm.val_dataset[0], dm.test_dataset[0]"
   ],
   "outputs": [
    {
     "output_type": "stream",
     "name": "stderr",
     "text": [
      "100%|██████████| 100/100 [00:00<00:00, 8566.97ex/s]\n",
      "100%|██████████| 100/100 [00:00<00:00, 12635.73ex/s]\n",
      "100%|██████████| 100/100 [00:00<00:00, 13126.89ex/s]\n"
     ]
    },
    {
     "output_type": "execute_result",
     "data": {
      "text/plain": [
       "({'input': \"Japanese indie film with humor and philosophy where the three main characters run literally almost through the entire film, chasing each other due to strange circumstances and comical coincidence. As they are running, we see what is going on in their minds and how they got where they are at the moment. The act of running is a metaphor for these down-on-their luck people's lives. In some way, what they're really chasing for is not what they were originally chasing, but for meaning in their lives and an escape from their personal problems and broken dreams. Running makes them all feel truly alive. The big life-altering running adventure comes to an end when they accidentally get in the middle of something big, violent, and so absurd that it's funny in a clever way. One of my favorite films of all time by genius director Sabu.\",\n",
       "  'target': 1},\n",
       " {'input': \"Japanese indie film with humor and philosophy where the three main characters run literally almost through the entire film, chasing each other due to strange circumstances and comical coincidence. As they are running, we see what is going on in their minds and how they got where they are at the moment. The act of running is a metaphor for these down-on-their luck people's lives. In some way, what they're really chasing for is not what they were originally chasing, but for meaning in their lives and an escape from their personal problems and broken dreams. Running makes them all feel truly alive. The big life-altering running adventure comes to an end when they accidentally get in the middle of something big, violent, and so absurd that it's funny in a clever way. One of my favorite films of all time by genius director Sabu.\",\n",
       "  'target': 1},\n",
       " {'input': \"Japanese indie film with humor and philosophy where the three main characters run literally almost through the entire film, chasing each other due to strange circumstances and comical coincidence. As they are running, we see what is going on in their minds and how they got where they are at the moment. The act of running is a metaphor for these down-on-their luck people's lives. In some way, what they're really chasing for is not what they were originally chasing, but for meaning in their lives and an escape from their personal problems and broken dreams. Running makes them all feel truly alive. The big life-altering running adventure comes to an end when they accidentally get in the middle of something big, violent, and so absurd that it's funny in a clever way. One of my favorite films of all time by genius director Sabu.\",\n",
       "  'target': 1})"
      ]
     },
     "metadata": {},
     "execution_count": 6
    }
   ],
   "metadata": {}
  },
  {
   "cell_type": "code",
   "execution_count": 7,
   "source": [
    "# from json\n",
    "df.to_json(\"data/imdb/train.json\", orient=\"table\", index=False)\n",
    "\n",
    "dm = data.TextClassificationData.from_json(\n",
    "    input_fields=\"inputs\",\n",
    "    target_fields=\"labels\",\n",
    "    train_file=\"data/imdb/train.json\",\n",
    "    val_file=\"data/imdb/train.json\",\n",
    "    test_file=\"data/imdb/train.json\",\n",
    "    field=\"data\",\n",
    "    backbone=(tok, vocab_size),\n",
    "    backbone_kwargs={\"pretrained\": True},\n",
    ")\n",
    "\n",
    "dm.train_dataset[0], dm.val_dataset[0], dm.test_dataset[0]"
   ],
   "outputs": [
    {
     "output_type": "stream",
     "name": "stderr",
     "text": [
      "Using custom data configuration default-53868f25f4e74e4c\n"
     ]
    },
    {
     "output_type": "stream",
     "name": "stdout",
     "text": [
      "Downloading and preparing dataset json/default (download: Unknown size, generated: Unknown size, post-processed: Unknown size, total: Unknown size) to /Users/49796/.cache/huggingface/datasets/json/default-53868f25f4e74e4c/0.0.0/45636811569ec4a6630521c18235dfbbab83b7ab572e3393c5ba68ccabe98264...\n"
     ]
    },
    {
     "output_type": "stream",
     "name": "stderr",
     "text": []
    },
    {
     "output_type": "stream",
     "name": "stdout",
     "text": [
      "Dataset json downloaded and prepared to /Users/49796/.cache/huggingface/datasets/json/default-53868f25f4e74e4c/0.0.0/45636811569ec4a6630521c18235dfbbab83b7ab572e3393c5ba68ccabe98264. Subsequent calls will reuse this data.\n"
     ]
    },
    {
     "output_type": "stream",
     "name": "stderr",
     "text": [
      "100%|██████████| 100/100 [00:00<00:00, 12022.20ex/s]\n",
      "Using custom data configuration default-53868f25f4e74e4c\n",
      "Reusing dataset json (/Users/49796/.cache/huggingface/datasets/json/default-53868f25f4e74e4c/0.0.0/45636811569ec4a6630521c18235dfbbab83b7ab572e3393c5ba68ccabe98264)\n",
      "Loading cached processed dataset at /Users/49796/.cache/huggingface/datasets/json/default-53868f25f4e74e4c/0.0.0/45636811569ec4a6630521c18235dfbbab83b7ab572e3393c5ba68ccabe98264/cache-f3e048ab1971cf21.arrow\n",
      "Using custom data configuration default-53868f25f4e74e4c\n",
      "Reusing dataset json (/Users/49796/.cache/huggingface/datasets/json/default-53868f25f4e74e4c/0.0.0/45636811569ec4a6630521c18235dfbbab83b7ab572e3393c5ba68ccabe98264)\n",
      "Loading cached processed dataset at /Users/49796/.cache/huggingface/datasets/json/default-53868f25f4e74e4c/0.0.0/45636811569ec4a6630521c18235dfbbab83b7ab572e3393c5ba68ccabe98264/cache-f3e048ab1971cf21.arrow\n"
     ]
    },
    {
     "output_type": "execute_result",
     "data": {
      "text/plain": [
       "({'input': \"Japanese indie film with humor and philosophy where the three main characters run literally almost through the entire film, chasing each other due to strange circumstances and comical coincidence. As they are running, we see what is going on in their minds and how they got where they are at the moment. The act of running is a metaphor for these down-on-their luck people's lives. In some way, what they're really chasing for is not what they were originally chasing, but for meaning in their lives and an escape from their personal problems and broken dreams. Running makes them all feel truly alive. The big life-altering running adventure comes to an end when they accidentally get in the middle of something big, violent, and so absurd that it's funny in a clever way. One of my favorite films of all time by genius director Sabu.\",\n",
       "  'target': 1},\n",
       " {'input': \"Japanese indie film with humor and philosophy where the three main characters run literally almost through the entire film, chasing each other due to strange circumstances and comical coincidence. As they are running, we see what is going on in their minds and how they got where they are at the moment. The act of running is a metaphor for these down-on-their luck people's lives. In some way, what they're really chasing for is not what they were originally chasing, but for meaning in their lives and an escape from their personal problems and broken dreams. Running makes them all feel truly alive. The big life-altering running adventure comes to an end when they accidentally get in the middle of something big, violent, and so absurd that it's funny in a clever way. One of my favorite films of all time by genius director Sabu.\",\n",
       "  'target': 1},\n",
       " {'input': \"Japanese indie film with humor and philosophy where the three main characters run literally almost through the entire film, chasing each other due to strange circumstances and comical coincidence. As they are running, we see what is going on in their minds and how they got where they are at the moment. The act of running is a metaphor for these down-on-their luck people's lives. In some way, what they're really chasing for is not what they were originally chasing, but for meaning in their lives and an escape from their personal problems and broken dreams. Running makes them all feel truly alive. The big life-altering running adventure comes to an end when they accidentally get in the middle of something big, violent, and so absurd that it's funny in a clever way. One of my favorite films of all time by genius director Sabu.\",\n",
       "  'target': 1})"
      ]
     },
     "metadata": {},
     "execution_count": 7
    }
   ],
   "metadata": {}
  },
  {
   "cell_type": "code",
   "execution_count": 8,
   "source": [
    "# from parquet\n",
    "df.to_parquet(\"data/imdb/train.parquet\", index=False)\n",
    "\n",
    "dm = data.TextClassificationData.from_parquet(\n",
    "    input_field=\"inputs\",\n",
    "    target_fields=\"labels\",\n",
    "    train_file=\"data/imdb/train.parquet\",\n",
    "    val_file=\"data/imdb/train.parquet\",\n",
    "    test_file=\"data/imdb/train.parquet\",\n",
    "    backbone=(tok, vocab_size),\n",
    "    backbone_kwargs={\"pretrained\": True},\n",
    ")\n",
    "\n",
    "dm.train_dataset[0], dm.val_dataset[0], dm.test_dataset[0]"
   ],
   "outputs": [
    {
     "output_type": "stream",
     "name": "stderr",
     "text": [
      "Using custom data configuration default-78c61edadf1a62d9\n"
     ]
    },
    {
     "output_type": "stream",
     "name": "stdout",
     "text": [
      "Downloading and preparing dataset parquet/default (download: Unknown size, generated: Unknown size, post-processed: Unknown size, total: Unknown size) to /Users/49796/.cache/huggingface/datasets/parquet/default-78c61edadf1a62d9/0.0.0/03dda9603b6ba3760d9d286684a3d7d8ec00448c154f765795485acd3229ecba...\n"
     ]
    },
    {
     "output_type": "stream",
     "name": "stderr",
     "text": []
    },
    {
     "output_type": "stream",
     "name": "stdout",
     "text": [
      "Dataset parquet downloaded and prepared to /Users/49796/.cache/huggingface/datasets/parquet/default-78c61edadf1a62d9/0.0.0/03dda9603b6ba3760d9d286684a3d7d8ec00448c154f765795485acd3229ecba. Subsequent calls will reuse this data.\n"
     ]
    },
    {
     "output_type": "stream",
     "name": "stderr",
     "text": [
      "100%|██████████| 100/100 [00:00<00:00, 6640.65ex/s]\n",
      "Using custom data configuration default-78c61edadf1a62d9\n",
      "Reusing dataset parquet (/Users/49796/.cache/huggingface/datasets/parquet/default-78c61edadf1a62d9/0.0.0/03dda9603b6ba3760d9d286684a3d7d8ec00448c154f765795485acd3229ecba)\n",
      "Loading cached processed dataset at /Users/49796/.cache/huggingface/datasets/parquet/default-78c61edadf1a62d9/0.0.0/03dda9603b6ba3760d9d286684a3d7d8ec00448c154f765795485acd3229ecba/cache-916285ceb700b604.arrow\n",
      "Using custom data configuration default-78c61edadf1a62d9\n",
      "Reusing dataset parquet (/Users/49796/.cache/huggingface/datasets/parquet/default-78c61edadf1a62d9/0.0.0/03dda9603b6ba3760d9d286684a3d7d8ec00448c154f765795485acd3229ecba)\n",
      "Loading cached processed dataset at /Users/49796/.cache/huggingface/datasets/parquet/default-78c61edadf1a62d9/0.0.0/03dda9603b6ba3760d9d286684a3d7d8ec00448c154f765795485acd3229ecba/cache-916285ceb700b604.arrow\n"
     ]
    },
    {
     "output_type": "execute_result",
     "data": {
      "text/plain": [
       "({'input': \"Japanese indie film with humor and philosophy where the three main characters run literally almost through the entire film, chasing each other due to strange circumstances and comical coincidence. As they are running, we see what is going on in their minds and how they got where they are at the moment. The act of running is a metaphor for these down-on-their luck people's lives. In some way, what they're really chasing for is not what they were originally chasing, but for meaning in their lives and an escape from their personal problems and broken dreams. Running makes them all feel truly alive. The big life-altering running adventure comes to an end when they accidentally get in the middle of something big, violent, and so absurd that it's funny in a clever way. One of my favorite films of all time by genius director Sabu.\",\n",
       "  'target': 1},\n",
       " {'input': \"Japanese indie film with humor and philosophy where the three main characters run literally almost through the entire film, chasing each other due to strange circumstances and comical coincidence. As they are running, we see what is going on in their minds and how they got where they are at the moment. The act of running is a metaphor for these down-on-their luck people's lives. In some way, what they're really chasing for is not what they were originally chasing, but for meaning in their lives and an escape from their personal problems and broken dreams. Running makes them all feel truly alive. The big life-altering running adventure comes to an end when they accidentally get in the middle of something big, violent, and so absurd that it's funny in a clever way. One of my favorite films of all time by genius director Sabu.\",\n",
       "  'target': 1},\n",
       " {'input': \"Japanese indie film with humor and philosophy where the three main characters run literally almost through the entire film, chasing each other due to strange circumstances and comical coincidence. As they are running, we see what is going on in their minds and how they got where they are at the moment. The act of running is a metaphor for these down-on-their luck people's lives. In some way, what they're really chasing for is not what they were originally chasing, but for meaning in their lives and an escape from their personal problems and broken dreams. Running makes them all feel truly alive. The big life-altering running adventure comes to an end when they accidentally get in the middle of something big, violent, and so absurd that it's funny in a clever way. One of my favorite films of all time by genius director Sabu.\",\n",
       "  'target': 1})"
      ]
     },
     "metadata": {},
     "execution_count": 8
    }
   ],
   "metadata": {}
  },
  {
   "cell_type": "code",
   "execution_count": 9,
   "source": [
    "# from hf_datasets\n",
    "import datasets\n",
    "ds = datasets.Dataset.from_pandas(df)\n",
    "\n",
    "dm = data.TextClassificationData.from_hf_datasets(\n",
    "    input_field=\"inputs\",\n",
    "    target_fields=\"labels\",\n",
    "    train_hf_dataset=ds,\n",
    "    val_hf_dataset=ds,\n",
    "    test_hf_dataset=ds,\n",
    "    backbone=(tok, vocab_size),\n",
    "    backbone_kwargs={\"pretrained\": True},\n",
    ")\n",
    "\n",
    "dm.train_dataset[0], dm.val_dataset[0], dm.test_dataset[0]"
   ],
   "outputs": [
    {
     "output_type": "stream",
     "name": "stderr",
     "text": [
      "100%|██████████| 100/100 [00:00<00:00, 6137.14ex/s]\n",
      "100%|██████████| 100/100 [00:00<00:00, 9951.37ex/s]\n",
      "100%|██████████| 100/100 [00:00<00:00, 8222.35ex/s]\n"
     ]
    },
    {
     "output_type": "execute_result",
     "data": {
      "text/plain": [
       "({'input': \"Japanese indie film with humor and philosophy where the three main characters run literally almost through the entire film, chasing each other due to strange circumstances and comical coincidence. As they are running, we see what is going on in their minds and how they got where they are at the moment. The act of running is a metaphor for these down-on-their luck people's lives. In some way, what they're really chasing for is not what they were originally chasing, but for meaning in their lives and an escape from their personal problems and broken dreams. Running makes them all feel truly alive. The big life-altering running adventure comes to an end when they accidentally get in the middle of something big, violent, and so absurd that it's funny in a clever way. One of my favorite films of all time by genius director Sabu.\",\n",
       "  'target': 1},\n",
       " {'input': \"Japanese indie film with humor and philosophy where the three main characters run literally almost through the entire film, chasing each other due to strange circumstances and comical coincidence. As they are running, we see what is going on in their minds and how they got where they are at the moment. The act of running is a metaphor for these down-on-their luck people's lives. In some way, what they're really chasing for is not what they were originally chasing, but for meaning in their lives and an escape from their personal problems and broken dreams. Running makes them all feel truly alive. The big life-altering running adventure comes to an end when they accidentally get in the middle of something big, violent, and so absurd that it's funny in a clever way. One of my favorite films of all time by genius director Sabu.\",\n",
       "  'target': 1},\n",
       " {'input': \"Japanese indie film with humor and philosophy where the three main characters run literally almost through the entire film, chasing each other due to strange circumstances and comical coincidence. As they are running, we see what is going on in their minds and how they got where they are at the moment. The act of running is a metaphor for these down-on-their luck people's lives. In some way, what they're really chasing for is not what they were originally chasing, but for meaning in their lives and an escape from their personal problems and broken dreams. Running makes them all feel truly alive. The big life-altering running adventure comes to an end when they accidentally get in the middle of something big, violent, and so absurd that it's funny in a clever way. One of my favorite films of all time by genius director Sabu.\",\n",
       "  'target': 1})"
      ]
     },
     "metadata": {},
     "execution_count": 9
    }
   ],
   "metadata": {}
  }
 ],
 "metadata": {
  "kernelspec": {
   "name": "python3",
   "display_name": "Python 3.8.0 64-bit ('flash-dev': conda)"
  },
  "language_info": {
   "codemirror_mode": {
    "name": "ipython",
    "version": 3
   },
   "file_extension": ".py",
   "mimetype": "text/x-python",
   "name": "python",
   "nbconvert_exporter": "python",
   "pygments_lexer": "ipython3",
   "version": "3.8.0"
  },
  "interpreter": {
   "hash": "6c2e38ed56ebe2833c80d1b40a6bb0719d1f89bc272c0d98043136690c67fb4f"
  }
 },
 "nbformat": 4,
 "nbformat_minor": 5
}