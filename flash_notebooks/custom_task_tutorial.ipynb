{
 "cells": [
  {
   "cell_type": "markdown",
   "metadata": {},
   "source": [
    "# Tutorial: Creating a Custom Task"
   ]
  },
  {
   "cell_type": "markdown",
   "metadata": {},
   "source": [
    "TODO: words"
   ]
  },
  {
   "cell_type": "code",
   "execution_count": 1,
   "metadata": {},
   "outputs": [
    {
     "name": "stderr",
     "output_type": "stream",
     "text": [
      "PyTorch version 1.7.1 available.\n"
     ]
    }
   ],
   "source": [
    "import flash\n",
    "\n",
    "import torch\n",
    "from torch import nn"
   ]
  },
  {
   "cell_type": "markdown",
   "metadata": {},
   "source": [
    "Creating a model. TODO: words"
   ]
  },
  {
   "cell_type": "code",
   "execution_count": 15,
   "metadata": {},
   "outputs": [],
   "source": [
    "class LinearRegression(flash.Task):\n",
    "    def __init__(self, num_inputs, learning_rate=0.001, metrics=None):\n",
    "        # what kind of model do we want?\n",
    "        model = nn.Linear(num_inputs, 1)\n",
    "\n",
    "        # what loss function do we want?\n",
    "        loss_fn = torch.nn.functional.mse_loss\n",
    "        \n",
    "        # what optimizer to do we want?\n",
    "        optimizer = torch.optim.SGD\n",
    "        \n",
    "        super().__init__(\n",
    "            model=model,\n",
    "            loss_fn=loss_fn,\n",
    "            optimizer=optimizer,\n",
    "            metrics=metrics,\n",
    "            learning_rate=learning_rate,\n",
    "        )\n",
    "        \n",
    "    def forward(self, x):\n",
    "        return self.model(x)"
   ]
  },
  {
   "cell_type": "markdown",
   "metadata": {},
   "source": [
    "Load data TODO: words, something about diabetes dataset (10 features, 1 output)"
   ]
  },
  {
   "cell_type": "code",
   "execution_count": 16,
   "metadata": {},
   "outputs": [],
   "source": [
    "from sklearn import datasets\n",
    "from sklearn.model_selection import train_test_split\n",
    "from torch.utils.data import TensorDataset, DataLoader"
   ]
  },
  {
   "cell_type": "code",
   "execution_count": 46,
   "metadata": {},
   "outputs": [],
   "source": [
    "class DiabetesPipeline(flash.core.data.TaskDataPipeline):\n",
    "    def after_uncollate(self, samples):\n",
    "        return [f\"disease progression: {float(s):.2f}\" for s in samples]\n",
    "\n",
    "class DiabetesData(flash.DataModule):\n",
    "    def __init__(self, batch_size=64, num_workers=0):\n",
    "        x, y = datasets.load_diabetes(return_X_y=True)\n",
    "        x = torch.from_numpy(x).float()\n",
    "        y = torch.from_numpy(y).float().unsqueeze(1)\n",
    "        x_train, x_test, y_train, y_test = train_test_split(x, y, test_size=.20, random_state=0)\n",
    "\n",
    "        train_ds = TensorDataset(x_train, y_train)\n",
    "        test_ds = TensorDataset(x_test, y_test)\n",
    "        \n",
    "        super().__init__(\n",
    "            train_ds=train_ds,\n",
    "            test_ds=test_ds,\n",
    "            batch_size=batch_size,\n",
    "            num_workers=num_workers\n",
    "        )\n",
    "        \n",
    "    @staticmethod\n",
    "    def default_pipeline():\n",
    "        return DiabetesPipeline()\n",
    "        \n",
    "        \n",
    "    "
   ]
  },
  {
   "cell_type": "code",
   "execution_count": null,
   "metadata": {},
   "outputs": [],
   "source": []
  },
  {
   "cell_type": "markdown",
   "metadata": {},
   "source": [
    "Fit TODO words:"
   ]
  },
  {
   "cell_type": "code",
   "execution_count": 47,
   "metadata": {},
   "outputs": [
    {
     "name": "stderr",
     "output_type": "stream",
     "text": [
      "GPU available: False, used: False\n",
      "GPU available: False, used: False\n",
      "TPU available: None, using: 0 TPU cores\n",
      "TPU available: None, using: 0 TPU cores\n",
      "\n",
      "  | Name    | Type       | Params\n",
      "---------------------------------------\n",
      "0 | model   | Linear     | 11    \n",
      "1 | metrics | ModuleDict | 0     \n",
      "---------------------------------------\n",
      "11        Trainable params\n",
      "0         Non-trainable params\n",
      "11        Total params\n",
      "0.000     Total estimated model params size (MB)\n",
      "\n",
      "  | Name    | Type       | Params\n",
      "---------------------------------------\n",
      "0 | model   | Linear     | 11    \n",
      "1 | metrics | ModuleDict | 0     \n",
      "---------------------------------------\n",
      "11        Trainable params\n",
      "0         Non-trainable params\n",
      "11        Total params\n",
      "0.000     Total estimated model params size (MB)\n"
     ]
    },
    {
     "data": {
      "application/vnd.jupyter.widget-view+json": {
       "model_id": "",
       "version_major": 2,
       "version_minor": 0
      },
      "text/plain": [
       "HBox(children=(FloatProgress(value=1.0, bar_style='info', description='Validation sanity check', layout=Layout…"
      ]
     },
     "metadata": {},
     "output_type": "display_data"
    },
    {
     "name": "stderr",
     "output_type": "stream",
     "text": [
      "/usr/local/lib/python3.8/site-packages/pytorch_lightning/utilities/distributed.py:49: UserWarning: The dataloader, train dataloader, does not have many workers which may be a bottleneck. Consider increasing the value of the `num_workers` argument` (try 8 which is the number of cpus on this machine) in the `DataLoader` init to improve performance.\n",
      "  warnings.warn(*args, **kwargs)\n"
     ]
    },
    {
     "data": {
      "application/vnd.jupyter.widget-view+json": {
       "model_id": "4220b56d8e744bd6aface48084f74b83",
       "version_major": 2,
       "version_minor": 0
      },
      "text/plain": [
       "HBox(children=(FloatProgress(value=1.0, bar_style='info', description='Training', layout=Layout(flex='2'), max…"
      ]
     },
     "metadata": {},
     "output_type": "display_data"
    },
    {
     "name": "stdout",
     "output_type": "stream",
     "text": [
      "\n"
     ]
    },
    {
     "data": {
      "text/plain": [
       "1"
      ]
     },
     "execution_count": 47,
     "metadata": {},
     "output_type": "execute_result"
    }
   ],
   "source": [
    "model = LinearRegression(num_inputs=x.shape[1])\n",
    "data = DiabetesData()\n",
    "\n",
    "trainer = flash.Trainer(max_epochs=1000)\n",
    "trainer.fit(model, data)"
   ]
  },
  {
   "cell_type": "code",
   "execution_count": 49,
   "metadata": {},
   "outputs": [
    {
     "data": {
      "text/plain": [
       "['disease progression: 155.96',\n",
       " 'disease progression: 156.69',\n",
       " 'disease progression: 152.72',\n",
       " 'disease progression: 149.06',\n",
       " 'disease progression: 150.97']"
      ]
     },
     "execution_count": 49,
     "metadata": {},
     "output_type": "execute_result"
    }
   ],
   "source": [
    "model.predict(x_test[0:5])"
   ]
  },
  {
   "cell_type": "code",
   "execution_count": null,
   "metadata": {},
   "outputs": [],
   "source": []
  }
 ],
 "metadata": {
  "kernelspec": {
   "display_name": "Python 3",
   "language": "python",
   "name": "python3"
  },
  "language_info": {
   "codemirror_mode": {
    "name": "ipython",
    "version": 3
   },
   "file_extension": ".py",
   "mimetype": "text/x-python",
   "name": "python",
   "nbconvert_exporter": "python",
   "pygments_lexer": "ipython3",
   "version": "3.8.7"
  }
 },
 "nbformat": 4,
 "nbformat_minor": 4
}
