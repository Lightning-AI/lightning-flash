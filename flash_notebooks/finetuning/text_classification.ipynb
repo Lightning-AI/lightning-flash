{
 "cells": [
  {
   "cell_type": "markdown",
   "id": "distinct-statistics",
   "metadata": {},
   "source": [
    "[![Open In Colab](https://colab.research.google.com/assets/colab-badge.svg)](https://colab.research.google.com/github/PyTorchLightning/lightning-flash/blob/master/flash_notebooks/finetuning/text_classification.ipynb)"
   ]
  },
  {
   "cell_type": "markdown",
   "id": "knowing-serve",
   "metadata": {},
   "source": [
    "In this notebook, we'll go over the basics of lightning Flash by training a TextClassifier on [IMDB Dataset](https://www.imdb.com/interfaces/).\n",
    "\n",
    "---\n",
    "  - Give us a ⭐ [on Github](https://www.github.com/PytorchLightning/pytorch-lightning/)\n",
    "  - Check out [Flash documentation](https://lightning-flash.readthedocs.io/en/latest/)\n",
    "  - Check out [Lightning documentation](https://pytorch-lightning.readthedocs.io/en/latest/)\n",
    "  - Join us [on Slack](https://join.slack.com/t/pytorch-lightning/shared_invite/zt-f6bl2l0l-JYMK3tbAgAmGRrlNr00f1A)"
   ]
  },
  {
   "cell_type": "markdown",
   "id": "thorough-constraint",
   "metadata": {},
   "source": [
    "### Setup  \n",
    "Lightning Flash is easy to install. Simply ```pip install lightning-flash```"
   ]
  },
  {
   "cell_type": "code",
   "execution_count": null,
   "id": "general-george",
   "metadata": {},
   "outputs": [],
   "source": [
    "%%capture\n",
    "! pip install lightning-flash"
   ]
  },
  {
   "cell_type": "code",
   "execution_count": null,
   "id": "authorized-vegetarian",
   "metadata": {},
   "outputs": [],
   "source": [
    "import flash\n",
    "from flash.core.data import download_data\n",
    "from flash.text import TextClassificationData, TextClassifier"
   ]
  },
  {
   "cell_type": "markdown",
   "id": "sensitive-gentleman",
   "metadata": {},
   "source": [
    "###  1. Download the data"
   ]
  },
  {
   "cell_type": "code",
   "execution_count": null,
   "id": "regulated-perth",
   "metadata": {},
   "outputs": [],
   "source": [
    "download_data(\"https://pl-flash-data.s3.amazonaws.com/imdb.zip\", 'data/')"
   ]
  },
  {
   "cell_type": "markdown",
   "id": "defined-hawaii",
   "metadata": {},
   "source": [
    "###  2. Load the data"
   ]
  },
  {
   "cell_type": "code",
   "execution_count": null,
   "id": "intense-publicity",
   "metadata": {},
   "outputs": [],
   "source": [
    "datamodule = TextClassificationData.from_files(\n",
    "    train_file=\"data/imdb/train.csv\",\n",
    "    valid_file=\"data/imdb/valid.csv\",\n",
    "    test_file=\"data/imdb/test.csv\",\n",
    "    input=\"review\",\n",
    "    target=\"sentiment\",\n",
    "    batch_size=512\n",
    ")"
   ]
  },
  {
   "cell_type": "markdown",
   "id": "tracked-mobile",
   "metadata": {
    "jupyter": {
     "outputs_hidden": true
    }
   },
   "source": [
    "###  3. Build the model"
   ]
  },
  {
   "cell_type": "code",
   "execution_count": null,
   "id": "square-ownership",
   "metadata": {},
   "outputs": [],
   "source": [
    "model = TextClassifier(num_classes=datamodule.num_classes)"
   ]
  },
  {
   "cell_type": "markdown",
   "id": "young-thumbnail",
   "metadata": {
    "jupyter": {
     "outputs_hidden": true
    }
   },
   "source": [
    "###  4. Create the trainer. Run once on data"
   ]
  },
  {
   "cell_type": "code",
   "execution_count": null,
   "id": "inappropriate-hearing",
   "metadata": {},
   "outputs": [],
   "source": [
    "trainer = flash.Trainer(max_epochs=1)"
   ]
  },
  {
   "cell_type": "markdown",
   "id": "endless-recipient",
   "metadata": {
    "jupyter": {
     "outputs_hidden": true
    }
   },
   "source": [
    "###  5. Fine-tune the model"
   ]
  },
  {
   "cell_type": "code",
   "execution_count": null,
   "id": "bronze-interpretation",
   "metadata": {},
   "outputs": [],
   "source": [
    "trainer.finetune(model, datamodule=datamodule, unfreeze_milestones=(0, 1))"
   ]
  },
  {
   "cell_type": "markdown",
   "id": "accompanied-career",
   "metadata": {
    "jupyter": {
     "outputs_hidden": true
    }
   },
   "source": [
    "###  6. Test model"
   ]
  },
  {
   "cell_type": "code",
   "execution_count": null,
   "id": "remarkable-albany",
   "metadata": {},
   "outputs": [],
   "source": [
    "trainer.test()"
   ]
  },
  {
   "cell_type": "markdown",
   "id": "prime-shuttle",
   "metadata": {
    "jupyter": {
     "outputs_hidden": true
    }
   },
   "source": [
    "###  7. Save it!"
   ]
  },
  {
   "cell_type": "code",
   "execution_count": null,
   "id": "muslim-portable",
   "metadata": {},
   "outputs": [],
   "source": [
    "trainer.save_checkpoint(\"text_classification_model.pt\")"
   ]
  },
  {
   "cell_type": "markdown",
   "id": "metropolitan-majority",
   "metadata": {},
   "source": [
    "<code style=\"color:#792ee5;\">\n",
    "    <h1> <strong> Congratulations - Time to Join the Community! </strong>  </h1>\n",
    "</code>\n",
    "\n",
    "Congratulations on completing this notebook tutorial! If you enjoyed it and would like to join the Lightning movement, you can do so in the following ways!\n",
    "\n",
    "### Help us build Flash by adding support for new data-types and new tasks.\n",
    "Flash aims at becoming the first task hub, so anyone can get started to great amazing application using deep learning. \n",
    "If you are interested, please open a PR with your contributions !!! \n",
    "\n",
    "\n",
    "### Star [Lightning](https://github.com/PyTorchLightning/pytorch-lightning) on GitHub\n",
    "The easiest way to help our community is just by starring the GitHub repos! This helps raise awareness of the cool tools we're building.\n",
    "\n",
    "* Please, star [Lightning](https://github.com/PyTorchLightning/pytorch-lightning)\n",
    "\n",
    "### Join our [Slack](https://join.slack.com/t/pytorch-lightning/shared_invite/zt-f6bl2l0l-JYMK3tbAgAmGRrlNr00f1A)!\n",
    "The best way to keep up to date on the latest advancements is to join our community! Make sure to introduce yourself and share your interests in `#general` channel\n",
    "\n",
    "### Interested by SOTA AI models ! Check out [Bolt](https://github.com/PyTorchLightning/pytorch-lightning-bolts)\n",
    "Bolts has a collection of state-of-the-art models, all implemented in [Lightning](https://github.com/PyTorchLightning/pytorch-lightning) and can be easily integrated within your own projects.\n",
    "\n",
    "* Please, star [Bolt](https://github.com/PyTorchLightning/pytorch-lightning-bolts)\n",
    "\n",
    "### Contributions !\n",
    "The best way to contribute to our community is to become a code contributor! At any time you can go to [Lightning](https://github.com/PyTorchLightning/pytorch-lightning) or [Bolt](https://github.com/PyTorchLightning/pytorch-lightning-bolts) GitHub Issues page and filter for \"good first issue\". \n",
    "\n",
    "* [Lightning good first issue](https://github.com/PyTorchLightning/pytorch-lightning/issues?q=is%3Aopen+is%3Aissue+label%3A%22good+first+issue%22)\n",
    "* [Bolt good first issue](https://github.com/PyTorchLightning/pytorch-lightning-bolts/issues?q=is%3Aopen+is%3Aissue+label%3A%22good+first+issue%22)\n",
    "* You can also contribute your own notebooks with useful examples !\n",
    "\n",
    "### Great thanks from the entire Pytorch Lightning Team for your interest !\n",
    "\n",
    "<img src=\"https://github.com/PyTorchLightning/pytorch-lightning/blob/master/docs/source/_images/logos/lightning_logo-name.png?raw=true\" width=\"800\" height=\"200\" />"
   ]
  }
 ],
 "metadata": {
  "kernelspec": {
   "display_name": "Python 3",
   "language": "python",
   "name": "python3"
  },
  "language_info": {
   "codemirror_mode": {
    "name": "ipython",
    "version": 3
   },
   "file_extension": ".py",
   "mimetype": "text/x-python",
   "name": "python",
   "nbconvert_exporter": "python",
   "pygments_lexer": "ipython3",
   "version": "3.6.9"
  }
 },
 "nbformat": 4,
 "nbformat_minor": 5
}
