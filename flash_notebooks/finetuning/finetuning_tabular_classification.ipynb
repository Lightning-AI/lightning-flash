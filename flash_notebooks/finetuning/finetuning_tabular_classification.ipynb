{
 "cells": [
  {
   "cell_type": "code",
   "execution_count": 3,
   "id": "pacific-unemployment",
   "metadata": {},
   "outputs": [],
   "source": [
    "from pytorch_lightning.metrics.classification import Accuracy, Precision, Recall\n",
    "\n",
    "import flash\n",
    "from flash.core.data import download_data\n",
    "from flash.tabular import TabularClassifier, TabularData"
   ]
  },
  {
   "cell_type": "markdown",
   "id": "political-guitar",
   "metadata": {},
   "source": [
    "# 1. Download the data"
   ]
  },
  {
   "cell_type": "code",
   "execution_count": 5,
   "id": "romance-penalty",
   "metadata": {},
   "outputs": [],
   "source": [
    "download_data(\"https://pl-flash-data.s3.amazonaws.com/titanic.zip\", 'data/')"
   ]
  },
  {
   "cell_type": "markdown",
   "id": "atmospheric-justice",
   "metadata": {},
   "source": [
    "# 2. Load the data"
   ]
  },
  {
   "cell_type": "code",
   "execution_count": 7,
   "id": "unauthorized-differential",
   "metadata": {},
   "outputs": [],
   "source": [
    "datamodule = TabularData.from_csv(\n",
    "    \"./data/titanic/titanic.csv\",\n",
    "    test_csv=\"./data/titanic/test.csv\",\n",
    "    categorical_input=[\"Sex\", \"Age\", \"SibSp\", \"Parch\", \"Ticket\", \"Cabin\", \"Embarked\"],\n",
    "    numerical_input=[\"Fare\"],\n",
    "    target=\"Survived\",\n",
    "    val_size=0.25,\n",
    ")\n"
   ]
  },
  {
   "cell_type": "markdown",
   "id": "burning-carroll",
   "metadata": {},
   "source": [
    "# 3. Build the model"
   ]
  },
  {
   "cell_type": "code",
   "execution_count": 9,
   "id": "coupled-hindu",
   "metadata": {},
   "outputs": [],
   "source": [
    "model = TabularClassifier.from_data(datamodule, metrics=[Accuracy(), Precision(), Recall()])"
   ]
  },
  {
   "cell_type": "markdown",
   "id": "civil-greeting",
   "metadata": {},
   "source": [
    "# 4. Create the trainer. Run 10 times on data"
   ]
  },
  {
   "cell_type": "code",
   "execution_count": 11,
   "id": "processed-congo",
   "metadata": {},
   "outputs": [
    {
     "name": "stderr",
     "output_type": "stream",
     "text": [
      "GPU available: False, used: False\n",
      "TPU available: None, using: 0 TPU cores\n"
     ]
    }
   ],
   "source": [
    "trainer = flash.Trainer(max_epochs=10)"
   ]
  },
  {
   "cell_type": "markdown",
   "id": "contained-sequence",
   "metadata": {},
   "source": [
    "# 5. Train the model"
   ]
  },
  {
   "cell_type": "code",
   "execution_count": 13,
   "id": "changed-harvest",
   "metadata": {},
   "outputs": [
    {
     "name": "stderr",
     "output_type": "stream",
     "text": [
      "\n",
      "  | Name    | Type        | Params\n",
      "----------------------------------------\n",
      "0 | model   | Sequential  | 59.1 K\n",
      "1 | metrics | ModuleDict  | 0     \n",
      "2 | embs    | ModuleList  | 15.1 K\n",
      "3 | bn_num  | BatchNorm1d | 2     \n",
      "----------------------------------------\n",
      "74.2 K    Trainable params\n",
      "0         Non-trainable params\n",
      "74.2 K    Total params\n",
      "0.297     Total estimated model params size (MB)\n"
     ]
    },
    {
     "data": {
      "application/vnd.jupyter.widget-view+json": {
       "model_id": "",
       "version_major": 2,
       "version_minor": 0
      },
      "text/plain": [
       "Validation sanity check: 0it [00:00, ?it/s]"
      ]
     },
     "metadata": {},
     "output_type": "display_data"
    },
    {
     "data": {
      "application/vnd.jupyter.widget-view+json": {
       "model_id": "f826a8a8b79a4ec29a9bea8a216fd11c",
       "version_major": 2,
       "version_minor": 0
      },
      "text/plain": [
       "Training: 0it [00:00, ?it/s]"
      ]
     },
     "metadata": {},
     "output_type": "display_data"
    },
    {
     "data": {
      "text/plain": [
       "1"
      ]
     },
     "execution_count": 13,
     "metadata": {},
     "output_type": "execute_result"
    }
   ],
   "source": [
    "trainer.fit(model, datamodule=datamodule)"
   ]
  },
  {
   "cell_type": "markdown",
   "id": "defensive-studio",
   "metadata": {},
   "source": [
    "# 6. Test model"
   ]
  },
  {
   "cell_type": "code",
   "execution_count": 15,
   "id": "injured-andrew",
   "metadata": {},
   "outputs": [
    {
     "data": {
      "application/vnd.jupyter.widget-view+json": {
       "model_id": "f79f25a5991d4fb4be9e4653b25821c5",
       "version_major": 2,
       "version_minor": 0
      },
      "text/plain": [
       "Testing: 0it [00:00, ?it/s]"
      ]
     },
     "metadata": {},
     "output_type": "display_data"
    },
    {
     "name": "stdout",
     "output_type": "stream",
     "text": [
      "--------------------------------------------------------------------------------\n",
      "DATALOADER:0 TEST RESULTS\n",
      "{'test_accuracy': 0.7333333492279053,\n",
      " 'test_cross_entropy': 0.6910470128059387,\n",
      " 'test_precision': 0.7333333492279053,\n",
      " 'test_recall': 0.7333333492279053}\n",
      "--------------------------------------------------------------------------------\n"
     ]
    },
    {
     "data": {
      "text/plain": [
       "[{'test_accuracy': 0.7333333492279053,\n",
       "  'test_precision': 0.7333333492279053,\n",
       "  'test_recall': 0.7333333492279053,\n",
       "  'test_cross_entropy': 0.6910470128059387}]"
      ]
     },
     "execution_count": 15,
     "metadata": {},
     "output_type": "execute_result"
    }
   ],
   "source": [
    "trainer.test()"
   ]
  },
  {
   "cell_type": "markdown",
   "id": "concrete-continent",
   "metadata": {},
   "source": [
    "# 7. Save it!"
   ]
  },
  {
   "cell_type": "code",
   "execution_count": 17,
   "id": "opponent-chuck",
   "metadata": {},
   "outputs": [],
   "source": [
    "trainer.save_checkpoint(\"tabular_classification_model.pt\")"
   ]
  }
 ],
 "metadata": {
  "kernelspec": {
   "display_name": "Python 3",
   "language": "python",
   "name": "python3"
  },
  "language_info": {
   "codemirror_mode": {
    "name": "ipython",
    "version": 3
   },
   "file_extension": ".py",
   "mimetype": "text/x-python",
   "name": "python",
   "nbconvert_exporter": "python",
   "pygments_lexer": "ipython3",
   "version": "3.6.9"
  }
 },
 "nbformat": 4,
 "nbformat_minor": 5
}
