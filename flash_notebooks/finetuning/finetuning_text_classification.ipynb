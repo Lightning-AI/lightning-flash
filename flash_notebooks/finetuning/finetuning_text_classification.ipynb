{
 "cells": [
  {
   "cell_type": "code",
   "execution_count": null,
   "id": "aggressive-accounting",
   "metadata": {},
   "outputs": [],
   "source": [
    "import flash\n",
    "from flash.core.data import download_data\n",
    "from flash.text import TextClassificationData, TextClassifier"
   ]
  },
  {
   "cell_type": "markdown",
   "id": "complicated-pitch",
   "metadata": {},
   "source": [
    "# 1. Download the data"
   ]
  },
  {
   "cell_type": "code",
   "execution_count": null,
   "id": "temporal-lender",
   "metadata": {},
   "outputs": [],
   "source": [
    "download_data(\"https://pl-flash-data.s3.amazonaws.com/imdb.zip\", 'data/')"
   ]
  },
  {
   "cell_type": "markdown",
   "id": "southern-junior",
   "metadata": {},
   "source": [
    "# 2. Load the data"
   ]
  },
  {
   "cell_type": "code",
   "execution_count": null,
   "id": "copyrighted-adjustment",
   "metadata": {},
   "outputs": [],
   "source": [
    "datamodule = TextClassificationData.from_files(\n",
    "    train_file=\"data/imdb/train.csv\",\n",
    "    valid_file=\"data/imdb/valid.csv\",\n",
    "    test_file=\"data/imdb/test.csv\",\n",
    "    input=\"review\",\n",
    "    target=\"sentiment\",\n",
    "    batch_size=512\n",
    ")"
   ]
  },
  {
   "cell_type": "markdown",
   "id": "prime-complexity",
   "metadata": {
    "jupyter": {
     "outputs_hidden": true
    }
   },
   "source": [
    "# 3. Build the model"
   ]
  },
  {
   "cell_type": "code",
   "execution_count": null,
   "id": "international-agriculture",
   "metadata": {},
   "outputs": [],
   "source": [
    "model = TextClassifier(num_classes=datamodule.num_classes)"
   ]
  },
  {
   "cell_type": "markdown",
   "id": "small-programmer",
   "metadata": {
    "jupyter": {
     "outputs_hidden": true
    }
   },
   "source": [
    "# 4. Create the trainer. Run once on data"
   ]
  },
  {
   "cell_type": "code",
   "execution_count": null,
   "id": "fallen-subcommittee",
   "metadata": {},
   "outputs": [],
   "source": [
    "trainer = flash.Trainer(max_epochs=1)"
   ]
  },
  {
   "cell_type": "markdown",
   "id": "miniature-complexity",
   "metadata": {
    "jupyter": {
     "outputs_hidden": true
    }
   },
   "source": [
    "# 5. Fine-tune the model"
   ]
  },
  {
   "cell_type": "code",
   "execution_count": null,
   "id": "critical-palace",
   "metadata": {},
   "outputs": [],
   "source": [
    "trainer.finetune(model, datamodule=datamodule, unfreeze_milestones=(0, 1))"
   ]
  },
  {
   "cell_type": "markdown",
   "id": "detected-return",
   "metadata": {
    "jupyter": {
     "outputs_hidden": true
    }
   },
   "source": [
    "# 6. Test model"
   ]
  },
  {
   "cell_type": "code",
   "execution_count": null,
   "id": "american-claim",
   "metadata": {},
   "outputs": [],
   "source": [
    "trainer.test()"
   ]
  },
  {
   "cell_type": "markdown",
   "id": "quantitative-array",
   "metadata": {
    "jupyter": {
     "outputs_hidden": true
    }
   },
   "source": [
    "# 7. Save it!"
   ]
  },
  {
   "cell_type": "code",
   "execution_count": null,
   "id": "aggregate-river",
   "metadata": {},
   "outputs": [],
   "source": [
    "trainer.save_checkpoint(\"text_classification_model.pt\")"
   ]
  }
 ],
 "metadata": {
  "kernelspec": {
   "display_name": "Python 3",
   "language": "python",
   "name": "python3"
  },
  "language_info": {
   "codemirror_mode": {
    "name": "ipython",
    "version": 3
   },
   "file_extension": ".py",
   "mimetype": "text/x-python",
   "name": "python",
   "nbconvert_exporter": "python",
   "pygments_lexer": "ipython3",
   "version": "3.6.9"
  }
 },
 "nbformat": 4,
 "nbformat_minor": 5
}
