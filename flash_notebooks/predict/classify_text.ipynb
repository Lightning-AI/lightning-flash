{
 "cells": [
  {
   "cell_type": "markdown",
   "id": "relative-bobby",
   "metadata": {},
   "source": [
    "[![Open In Colab](https://colab.research.google.com/assets/colab-badge.svg)](https://colab.research.google.com/github/PyTorchLightning/lightning-flash/blob/master/flash_notebooks/predict/classify_text.ipynb)"
   ]
  },
  {
   "cell_type": "markdown",
   "id": "unable-anchor",
   "metadata": {},
   "source": [
    "In this notebook, we'll go over the basics of lightning Flash for making predictions with TextClassifier on [IMDB Dataset](https://www.imdb.com/interfaces/).(https://www.kaggle.com/ajayrana/hymenoptera-data).\n",
    "\n",
    "---\n",
    "  - Give us a ⭐ [on Github](https://www.github.com/PytorchLightning/pytorch-lightning/)\n",
    "  - Check out [the documentation](https://pytorch-lightning.readthedocs.io/en/latest/)\n",
    "  - Join us [on Slack](https://join.slack.com/t/pytorch-lightning/shared_invite/zt-f6bl2l0l-JYMK3tbAgAmGRrlNr00f1A)\n",
    "  - Find finetuning notebook used to generate the weights [![Open In Colab](https://colab.research.google.com/assets/colab-badge.svg)](https://colab.research.google.com/github/PyTorchLightning/lightning-flash/blob/master/flash_notebooks/finetuning/text_classification.ipynb)"
   ]
  },
  {
   "cell_type": "code",
   "execution_count": null,
   "id": "pacific-section",
   "metadata": {},
   "outputs": [],
   "source": [
    "%%capture\n",
    "! pip install lightning-flash"
   ]
  },
  {
   "cell_type": "code",
   "execution_count": null,
   "id": "unlikely-converter",
   "metadata": {},
   "outputs": [],
   "source": [
    "from pytorch_lightning import Trainer\n",
    "\n",
    "from flash.core.data import download_data\n",
    "from flash.text import TextClassificationData, TextClassifier"
   ]
  },
  {
   "cell_type": "markdown",
   "id": "pleased-commander",
   "metadata": {},
   "source": [
    "###  1. Download the data"
   ]
  },
  {
   "cell_type": "code",
   "execution_count": null,
   "id": "historical-classic",
   "metadata": {},
   "outputs": [],
   "source": [
    "download_data(\"https://pl-flash-data.s3.amazonaws.com/imdb.zip\", 'data/')"
   ]
  },
  {
   "cell_type": "markdown",
   "id": "interracial-offer",
   "metadata": {},
   "source": [
    "###  2. Load the model from a checkpoint"
   ]
  },
  {
   "cell_type": "code",
   "execution_count": null,
   "id": "serial-thanksgiving",
   "metadata": {},
   "outputs": [],
   "source": [
    "model = TextClassifier.load_from_checkpoint(\"https://flash-weights.s3.amazonaws.com/text_classification_model.pt\")"
   ]
  },
  {
   "cell_type": "markdown",
   "id": "violent-wrapping",
   "metadata": {},
   "source": [
    "###  2a. Classify a few sentences! How was the movie?"
   ]
  },
  {
   "cell_type": "code",
   "execution_count": null,
   "id": "sensitive-sterling",
   "metadata": {},
   "outputs": [],
   "source": [
    "predictions = model.predict([\n",
    "    \"Turgid dialogue, feeble characterization - Harvey Keitel a judge?.\",\n",
    "    \"The worst movie in the history of cinema.\",\n",
    "    \"I come from Bulgaria where it 's almost impossible to have a tornado.\"\n",
    "    \"Very, very afraid\"\n",
    "    \"This guy has done a great job with this movie!\",\n",
    "])"
   ]
  },
  {
   "cell_type": "code",
   "execution_count": null,
   "id": "about-electronics",
   "metadata": {},
   "outputs": [],
   "source": [
    "print(predictions)"
   ]
  },
  {
   "cell_type": "markdown",
   "id": "polar-onion",
   "metadata": {},
   "source": [
    "###  2b. Or generate predictions from a sheet file!"
   ]
  },
  {
   "cell_type": "code",
   "execution_count": null,
   "id": "visible-breathing",
   "metadata": {},
   "outputs": [],
   "source": [
    "datamodule = TextClassificationData.from_file(\n",
    "    predict_file=\"data/imdb/predict.csv\",\n",
    "    input=\"review\",\n",
    ")"
   ]
  },
  {
   "cell_type": "code",
   "execution_count": null,
   "id": "swiss-poison",
   "metadata": {},
   "outputs": [],
   "source": [
    "predictions = Trainer().predict(model, datamodule=datamodule)"
   ]
  },
  {
   "cell_type": "code",
   "execution_count": null,
   "id": "vulnerable-robertson",
   "metadata": {},
   "outputs": [],
   "source": [
    "print(predictions)"
   ]
  }
 ],
 "metadata": {
  "kernelspec": {
   "display_name": "Python 3",
   "language": "python",
   "name": "python3"
  },
  "language_info": {
   "codemirror_mode": {
    "name": "ipython",
    "version": 3
   },
   "file_extension": ".py",
   "mimetype": "text/x-python",
   "name": "python",
   "nbconvert_exporter": "python",
   "pygments_lexer": "ipython3",
   "version": "3.6.9"
  }
 },
 "nbformat": 4,
 "nbformat_minor": 5
}
