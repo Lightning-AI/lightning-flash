{
 "cells": [
  {
   "cell_type": "code",
   "execution_count": null,
   "id": "residential-identification",
   "metadata": {},
   "outputs": [],
   "source": [
    "from pytorch_lightning import Trainer\n",
    "\n",
    "from flash.core.data import download_data\n",
    "from flash.text import TextClassificationData, TextClassifier"
   ]
  },
  {
   "cell_type": "markdown",
   "id": "green-moderator",
   "metadata": {},
   "source": [
    "# 1. Download the data"
   ]
  },
  {
   "cell_type": "code",
   "execution_count": null,
   "id": "fuzzy-boost",
   "metadata": {},
   "outputs": [],
   "source": [
    "download_data(\"https://pl-flash-data.s3.amazonaws.com/imdb.zip\", 'data/')"
   ]
  },
  {
   "cell_type": "markdown",
   "id": "considerable-learning",
   "metadata": {},
   "source": [
    "# 2. Load the model from a checkpoint"
   ]
  },
  {
   "cell_type": "code",
   "execution_count": null,
   "id": "academic-asset",
   "metadata": {},
   "outputs": [],
   "source": [
    "model = TextClassifier.load_from_checkpoint(\"https://flash-weights.s3.amazonaws.com/text_classification_model.pt\")"
   ]
  },
  {
   "cell_type": "markdown",
   "id": "clear-bowling",
   "metadata": {},
   "source": [
    "# 2a. Classify a few sentences! How was the movie?"
   ]
  },
  {
   "cell_type": "code",
   "execution_count": null,
   "id": "impressive-disclaimer",
   "metadata": {},
   "outputs": [],
   "source": [
    "predictions = model.predict([\n",
    "    \"Turgid dialogue, feeble characterization - Harvey Keitel a judge?.\",\n",
    "    \"The worst movie in the history of cinema.\",\n",
    "    \"I come from Bulgaria where it 's almost impossible to have a tornado.\"\n",
    "    \"Very, very afraid\"\n",
    "    \"This guy has done a great job with this movie!\",\n",
    "])"
   ]
  },
  {
   "cell_type": "code",
   "execution_count": null,
   "id": "streaming-denial",
   "metadata": {},
   "outputs": [],
   "source": [
    "print(predictions)"
   ]
  },
  {
   "cell_type": "markdown",
   "id": "ignored-airfare",
   "metadata": {},
   "source": [
    "# 2b. Or generate predictions from a sheet file!"
   ]
  },
  {
   "cell_type": "code",
   "execution_count": null,
   "id": "perfect-latin",
   "metadata": {},
   "outputs": [],
   "source": [
    "datamodule = TextClassificationData.from_file(\n",
    "    predict_file=\"data/imdb/predict.csv\",\n",
    "    input=\"review\",\n",
    ")"
   ]
  },
  {
   "cell_type": "code",
   "execution_count": null,
   "id": "julian-bargain",
   "metadata": {},
   "outputs": [],
   "source": [
    "predictions = Trainer().predict(model, datamodule=datamodule)"
   ]
  },
  {
   "cell_type": "code",
   "execution_count": null,
   "id": "organized-illinois",
   "metadata": {},
   "outputs": [],
   "source": [
    "print(predictions)"
   ]
  }
 ],
 "metadata": {
  "kernelspec": {
   "display_name": "Python 3",
   "language": "python",
   "name": "python3"
  },
  "language_info": {
   "codemirror_mode": {
    "name": "ipython",
    "version": 3
   },
   "file_extension": ".py",
   "mimetype": "text/x-python",
   "name": "python",
   "nbconvert_exporter": "python",
   "pygments_lexer": "ipython3",
   "version": "3.6.9"
  }
 },
 "nbformat": 4,
 "nbformat_minor": 5
}
