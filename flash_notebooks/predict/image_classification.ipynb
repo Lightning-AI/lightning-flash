{
 "cells": [
  {
   "cell_type": "code",
   "execution_count": 2,
   "id": "unlike-brain",
   "metadata": {},
   "outputs": [],
   "source": [
    "from flash import Trainer\n",
    "from flash.core.data import download_data\n",
    "from flash.vision import ImageClassificationData, ImageClassifier"
   ]
  },
  {
   "cell_type": "markdown",
   "id": "joined-rehabilitation",
   "metadata": {},
   "source": [
    "# 1. Download the data"
   ]
  },
  {
   "cell_type": "code",
   "execution_count": 3,
   "id": "standing-schema",
   "metadata": {},
   "outputs": [],
   "source": [
    "download_data(\"https://pl-flash-data.s3.amazonaws.com/hymenoptera_data.zip\", 'data/')"
   ]
  },
  {
   "cell_type": "markdown",
   "id": "threaded-thomas",
   "metadata": {},
   "source": [
    "# 2. Load the model from a checkpoint"
   ]
  },
  {
   "cell_type": "code",
   "execution_count": 4,
   "id": "dedicated-mauritius",
   "metadata": {},
   "outputs": [],
   "source": [
    "model = ImageClassifier.load_from_checkpoint(\"https://flash-weights.s3.amazonaws.com/image_classification_model.pt\")"
   ]
  },
  {
   "cell_type": "markdown",
   "id": "fleet-paraguay",
   "metadata": {},
   "source": [
    "# 3a. Predict what's on a few images! ants or bees?"
   ]
  },
  {
   "cell_type": "code",
   "execution_count": 5,
   "id": "regional-cherry",
   "metadata": {},
   "outputs": [],
   "source": [
    "predictions = model.predict([\n",
    "    \"data/hymenoptera_data/val/bees/65038344_52a45d090d.jpg\",\n",
    "    \"data/hymenoptera_data/val/bees/590318879_68cf112861.jpg\",\n",
    "    \"data/hymenoptera_data/val/ants/540543309_ddbb193ee5.jpg\",\n",
    "])"
   ]
  },
  {
   "cell_type": "code",
   "execution_count": 6,
   "id": "under-character",
   "metadata": {},
   "outputs": [
    {
     "name": "stdout",
     "output_type": "stream",
     "text": [
      "[1, 1, 0]\n"
     ]
    }
   ],
   "source": [
    "print(predictions)"
   ]
  },
  {
   "cell_type": "markdown",
   "id": "baking-messaging",
   "metadata": {},
   "source": [
    "# 3b. Or generate predictions with a whole folder!"
   ]
  },
  {
   "cell_type": "code",
   "execution_count": 7,
   "id": "respective-sensitivity",
   "metadata": {},
   "outputs": [],
   "source": [
    "datamodule = ImageClassificationData.from_folder(folder=\"data/hymenoptera_data/predict/\")"
   ]
  },
  {
   "cell_type": "code",
   "execution_count": 8,
   "id": "leading-mailing",
   "metadata": {},
   "outputs": [
    {
     "name": "stderr",
     "output_type": "stream",
     "text": [
      "GPU available: False, used: False\n",
      "TPU available: None, using: 0 TPU cores\n"
     ]
    },
    {
     "data": {
      "application/vnd.jupyter.widget-view+json": {
       "model_id": "2ace19df45c34b39bc8a305fa14ba1e3",
       "version_major": 2,
       "version_minor": 0
      },
      "text/plain": [
       "Testing: 0it [00:00, ?it/s]"
      ]
     },
     "metadata": {},
     "output_type": "display_data"
    }
   ],
   "source": [
    "predictions = Trainer().predict(model, datamodule=datamodule)"
   ]
  },
  {
   "cell_type": "code",
   "execution_count": 9,
   "id": "imperial-lyric",
   "metadata": {},
   "outputs": [
    {
     "name": "stdout",
     "output_type": "stream",
     "text": [
      "[[[0, 0, 0, 0, 0, 0, 1, 0, 0, 1]]]\n"
     ]
    }
   ],
   "source": [
    "print(predictions)"
   ]
  }
 ],
 "metadata": {
  "kernelspec": {
   "display_name": "Python 3",
   "language": "python",
   "name": "python3"
  },
  "language_info": {
   "codemirror_mode": {
    "name": "ipython",
    "version": 3
   },
   "file_extension": ".py",
   "mimetype": "text/x-python",
   "name": "python",
   "nbconvert_exporter": "python",
   "pygments_lexer": "ipython3",
   "version": "3.6.9"
  }
 },
 "nbformat": 4,
 "nbformat_minor": 5
}
